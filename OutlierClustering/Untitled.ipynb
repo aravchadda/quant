{
 "cells": [
  {
   "cell_type": "code",
   "execution_count": null,
   "id": "2dcf78d1-2aa8-4eb7-a253-ed72962f4040",
   "metadata": {},
   "outputs": [],
   "source": [
    "import pandas as pd\n",
    "import matplotlib as plt\n",
    "file = 'w.xlsx'\n",
    "df = pd.read_excel(file,sheet_name = 0,index_col = 0)"
   ]
  }
 ],
 "metadata": {
  "kernelspec": {
   "display_name": "Python 3 (ipykernel)",
   "language": "python",
   "name": "python3"
  },
  "language_info": {
   "codemirror_mode": {
    "name": "ipython",
    "version": 3
   },
   "file_extension": ".py",
   "mimetype": "text/x-python",
   "name": "python",
   "nbconvert_exporter": "python",
   "pygments_lexer": "ipython3",
   "version": "3.11.7"
  }
 },
 "nbformat": 4,
 "nbformat_minor": 5
}
